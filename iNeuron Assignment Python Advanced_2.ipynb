{
 "cells": [
  {
   "cell_type": "markdown",
   "id": "a994654f",
   "metadata": {},
   "source": [
    "## Q1. What is the relationship between classes and modules?"
   ]
  },
  {
   "cell_type": "markdown",
   "id": "91cfc004",
   "metadata": {},
   "source": [
    "A module is a collection or package of classes and functions in them. A class is a collection of functions. For example when we import pandas - Pandas is a module. Within Pandas there are varios classes and methods such as pd. head(), pd.read_xxx, pd.describe(), which help us execute the actions that we need to."
   ]
  },
  {
   "cell_type": "markdown",
   "id": "3ffb4d72",
   "metadata": {},
   "source": [
    "## Q2. How do you make instances and classes?"
   ]
  },
  {
   "cell_type": "markdown",
   "id": "50772e60",
   "metadata": {},
   "source": [
    "A class is like a sleeping collection of methods which wake up when called by a name. THe name can be called an instance or an object."
   ]
  },
  {
   "cell_type": "code",
   "execution_count": 2,
   "id": "5c67864b",
   "metadata": {},
   "outputs": [],
   "source": [
    "class sample:\n",
    "    def __init__(self, a,b):\n",
    "        self.a = a\n",
    "        self.b = b\n",
    "        \n",
    "    def addition(self):\n",
    "        return self.a+self.b"
   ]
  },
  {
   "cell_type": "code",
   "execution_count": 3,
   "id": "6de71d5c",
   "metadata": {},
   "outputs": [],
   "source": [
    "s = sample(2,3) # Here we give class with method addition a name s and it gets activated"
   ]
  },
  {
   "cell_type": "code",
   "execution_count": 5,
   "id": "c28ef7c2",
   "metadata": {},
   "outputs": [
    {
     "data": {
      "text/plain": [
       "5"
      ]
     },
     "execution_count": 5,
     "metadata": {},
     "output_type": "execute_result"
    }
   ],
   "source": [
    "s.addition() #Here we call the method NOT with the class name but with the instance name to get it to function"
   ]
  },
  {
   "cell_type": "markdown",
   "id": "3cd3fb85",
   "metadata": {},
   "source": [
    "## Q3. Where and how should be class attributes created?"
   ]
  },
  {
   "cell_type": "markdown",
   "id": "9a73a7c5",
   "metadata": {},
   "source": [
    "Class attributes are simply variable or methods that ge automatically activated when the class is called.\n",
    "\n",
    "Now hoe does that happen?\n",
    "\n",
    "It happens by using and in-built constructor (method) that takes in the attributes to be autmatically activated when the class instance is created "
   ]
  },
  {
   "cell_type": "markdown",
   "id": "9ca5712b",
   "metadata": {},
   "source": [
    "## Q4. Where and how are instance attributes created?"
   ]
  },
  {
   "cell_type": "markdown",
   "id": "d468c0a4",
   "metadata": {},
   "source": [
    "Class instance is created once the class has been created\n",
    "\n",
    "The format is like this:\n",
    "\n",
    "instance_name = class(variable attributes)"
   ]
  },
  {
   "cell_type": "markdown",
   "id": "aed3050b",
   "metadata": {},
   "source": [
    "## Q6. How does a Python class handle operator overloading?"
   ]
  },
  {
   "cell_type": "markdown",
   "id": "62471512",
   "metadata": {},
   "source": [
    "By using special methods which are inbuilt. Lets see how:\n",
    "    \n",
    "    Operator overloading is changing the meaning of some exisiting operations like +, -, division etc. \n",
    "    \n",
    "    We do this by calling the special mathods built in to python. Lets say for add we have __add__. LEts rediefine it"
   ]
  },
  {
   "cell_type": "code",
   "execution_count": 16,
   "id": "a5d2cb94",
   "metadata": {},
   "outputs": [],
   "source": [
    "class Pythagorus:\n",
    "    def __init__(self,a,b):\n",
    "        self.a = a\n",
    "        self.b = b\n",
    "        \n",
    "        \n",
    "    def __add__(self):\n",
    "        return (self.a**2+self.b**2)"
   ]
  },
  {
   "cell_type": "code",
   "execution_count": 17,
   "id": "3e51408a",
   "metadata": {},
   "outputs": [],
   "source": [
    "h = Pythagorus(3,4)"
   ]
  },
  {
   "cell_type": "code",
   "execution_count": 18,
   "id": "b61cfa80",
   "metadata": {},
   "outputs": [
    {
     "data": {
      "text/plain": [
       "25"
      ]
     },
     "execution_count": 18,
     "metadata": {},
     "output_type": "execute_result"
    }
   ],
   "source": [
    "h.__add__()"
   ]
  },
  {
   "cell_type": "markdown",
   "id": "726000ec",
   "metadata": {},
   "source": [
    "## Q7. When do you consider allowing operator overloading of your classes?"
   ]
  },
  {
   "cell_type": "markdown",
   "id": "4de403eb",
   "metadata": {},
   "source": [
    "We may need to do certain specail activities like matrix operations , vector multiplication rather than everytim ecoding the formulas we overload the primary operations and then apply whenever needed. This way time and code run-time both are saved"
   ]
  },
  {
   "cell_type": "markdown",
   "id": "b09d0f79",
   "metadata": {},
   "source": [
    "## Q8. What is the most popular form of operator overloading?"
   ]
  },
  {
   "cell_type": "markdown",
   "id": "38a64c59",
   "metadata": {},
   "source": [
    "The most popular for is the overload of __ add __ () probably which overloads '+'"
   ]
  },
  {
   "cell_type": "markdown",
   "id": "b098ff71",
   "metadata": {},
   "source": [
    "## Q9. What are the two most important concepts to grasp in order to comprehend Python OOP code?"
   ]
  },
  {
   "cell_type": "markdown",
   "id": "3a3a2fd4",
   "metadata": {},
   "source": [
    "The two most important concepts tooundrestand OOPs concept are probably:\n",
    "\n",
    "    1 - class and instance\n",
    "    2 - Methods"
   ]
  },
  {
   "cell_type": "code",
   "execution_count": null,
   "id": "e86876b2",
   "metadata": {},
   "outputs": [],
   "source": []
  }
 ],
 "metadata": {
  "kernelspec": {
   "display_name": "Python 3 (ipykernel)",
   "language": "python",
   "name": "python3"
  },
  "language_info": {
   "codemirror_mode": {
    "name": "ipython",
    "version": 3
   },
   "file_extension": ".py",
   "mimetype": "text/x-python",
   "name": "python",
   "nbconvert_exporter": "python",
   "pygments_lexer": "ipython3",
   "version": "3.9.13"
  }
 },
 "nbformat": 4,
 "nbformat_minor": 5
}
